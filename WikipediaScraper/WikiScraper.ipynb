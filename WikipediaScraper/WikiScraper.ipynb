{
  "nbformat": 4,
  "nbformat_minor": 0,
  "metadata": {
    "colab": {
      "provenance": [],
      "authorship_tag": "ABX9TyOGoxnE+t8vnYJbBw9MCTNn",
      "include_colab_link": true
    },
    "kernelspec": {
      "name": "python3",
      "display_name": "Python 3"
    },
    "language_info": {
      "name": "python"
    }
  },
  "cells": [
    {
      "cell_type": "markdown",
      "metadata": {
        "id": "view-in-github",
        "colab_type": "text"
      },
      "source": [
        "<a href=\"https://colab.research.google.com/github/Bhavleenk/Scrape-Wikipedia/blob/main/WikipediaScraper/WikiScraper.ipynb\" target=\"_parent\"><img src=\"https://colab.research.google.com/assets/colab-badge.svg\" alt=\"Open In Colab\"/></a>"
      ]
    },
    {
      "cell_type": "markdown",
      "source": [
        "# **Scrape Wikipedia with Python**"
      ],
      "metadata": {
        "id": "vPN9kwn5002b"
      }
    },
    {
      "cell_type": "markdown",
      "source": [
        "# Installing Package"
      ],
      "metadata": {
        "id": "VbIQ6gXD5i5F"
      }
    },
    {
      "cell_type": "code",
      "source": [
        "!pip install wikipedia"
      ],
      "metadata": {
        "colab": {
          "base_uri": "https://localhost:8080/"
        },
        "id": "yU4dyusb3--R",
        "outputId": "443ce207-7a1d-4303-b17d-2c0ab3c70365"
      },
      "execution_count": 24,
      "outputs": [
        {
          "output_type": "stream",
          "name": "stdout",
          "text": [
            "Looking in indexes: https://pypi.org/simple, https://us-python.pkg.dev/colab-wheels/public/simple/\n",
            "Collecting wikipedia\n",
            "  Downloading wikipedia-1.4.0.tar.gz (27 kB)\n",
            "  Preparing metadata (setup.py) ... \u001b[?25l\u001b[?25hdone\n",
            "Requirement already satisfied: beautifulsoup4 in /usr/local/lib/python3.10/dist-packages (from wikipedia) (4.11.2)\n",
            "Requirement already satisfied: requests<3.0.0,>=2.0.0 in /usr/local/lib/python3.10/dist-packages (from wikipedia) (2.27.1)\n",
            "Requirement already satisfied: urllib3<1.27,>=1.21.1 in /usr/local/lib/python3.10/dist-packages (from requests<3.0.0,>=2.0.0->wikipedia) (1.26.16)\n",
            "Requirement already satisfied: certifi>=2017.4.17 in /usr/local/lib/python3.10/dist-packages (from requests<3.0.0,>=2.0.0->wikipedia) (2023.5.7)\n",
            "Requirement already satisfied: charset-normalizer~=2.0.0 in /usr/local/lib/python3.10/dist-packages (from requests<3.0.0,>=2.0.0->wikipedia) (2.0.12)\n",
            "Requirement already satisfied: idna<4,>=2.5 in /usr/local/lib/python3.10/dist-packages (from requests<3.0.0,>=2.0.0->wikipedia) (3.4)\n",
            "Requirement already satisfied: soupsieve>1.2 in /usr/local/lib/python3.10/dist-packages (from beautifulsoup4->wikipedia) (2.4.1)\n",
            "Building wheels for collected packages: wikipedia\n",
            "  Building wheel for wikipedia (setup.py) ... \u001b[?25l\u001b[?25hdone\n",
            "  Created wheel for wikipedia: filename=wikipedia-1.4.0-py3-none-any.whl size=11680 sha256=42a148361e10344f9d7e39a568214c515aa8557a901c1bc6cc67e5bd2df19c86\n",
            "  Stored in directory: /root/.cache/pip/wheels/5e/b6/c5/93f3dec388ae76edc830cb42901bb0232504dfc0df02fc50de\n",
            "Successfully built wikipedia\n",
            "Installing collected packages: wikipedia\n",
            "Successfully installed wikipedia-1.4.0\n"
          ]
        }
      ]
    },
    {
      "cell_type": "markdown",
      "source": [
        "# Importing package"
      ],
      "metadata": {
        "id": "VwiBc76C5nFZ"
      }
    },
    {
      "cell_type": "code",
      "source": [
        "import wikipedia as wiki"
      ],
      "metadata": {
        "id": "heK53SvS1s1G"
      },
      "execution_count": 25,
      "outputs": []
    },
    {
      "cell_type": "markdown",
      "source": [
        "## Code below will get all the Search suggestions of the input"
      ],
      "metadata": {
        "id": "jXMnX5I9576s"
      }
    },
    {
      "cell_type": "code",
      "source": [
        "print(wiki.search(\"Mobile\"))"
      ],
      "metadata": {
        "colab": {
          "base_uri": "https://localhost:8080/"
        },
        "id": "L0hTclkZ4FxX",
        "outputId": "4325e965-c949-446b-c6d0-6a7628d7912b"
      },
      "execution_count": 46,
      "outputs": [
        {
          "output_type": "stream",
          "name": "stdout",
          "text": [
            "['Mobile', 'Mobile country code', 'Mobile phone', 'Mobile app', 'Mobile network codes in ITU region 4xx (Asia)', 'Mobile network codes in ITU region 3xx (North America)', 'Mobile, Alabama', 'Mint Mobile', 'PUBG Mobile', 'FIFA Mobile']\n"
          ]
        }
      ]
    },
    {
      "cell_type": "code",
      "source": [
        "print(wiki.suggest(\"mobil\"))"
      ],
      "metadata": {
        "colab": {
          "base_uri": "https://localhost:8080/"
        },
        "id": "DjQ4O9zJ4Rfc",
        "outputId": "a23de10a-aad6-4e8f-a14b-e3a81f9a6414"
      },
      "execution_count": 50,
      "outputs": [
        {
          "output_type": "stream",
          "name": "stdout",
          "text": [
            "mobile\n"
          ]
        }
      ]
    },
    {
      "cell_type": "markdown",
      "source": [
        "# Get Summary of the Article"
      ],
      "metadata": {
        "id": "CcbOZqCH6XES"
      }
    },
    {
      "cell_type": "code",
      "source": [
        "print(wiki.summary(\"Mobile phone\"))"
      ],
      "metadata": {
        "colab": {
          "base_uri": "https://localhost:8080/"
        },
        "id": "CHVZnoiU4fKC",
        "outputId": "1f6464aa-ef4c-4a60-e592-64cbc38a6488"
      },
      "execution_count": 52,
      "outputs": [
        {
          "output_type": "stream",
          "name": "stdout",
          "text": [
            "A mobile home (also known as a house trailer, park home, trailer, or trailer home) is a prefabricated structure, built in a factory on a permanently attached chassis before being transported to site (either by being towed or on a trailer). Used as permanent homes, or for holiday or temporary accommodation, they are often left permanently or semi-permanently in one place, but can be moved, and may be required to move from time to time for legal reasons.\n",
            "Mobile homes share the same historic origins as travel trailers, but today the two are very different, with travel trailers being used primarily as temporary or vacation homes. Behind the cosmetic work fitted at installation to hide the base, mobile homes have strong trailer frames, axles, wheels, and tow-hitches.\n",
            "\n",
            "\n"
          ]
        }
      ]
    },
    {
      "cell_type": "markdown",
      "source": [
        "# Changing the Language and Getting Summary in that Language"
      ],
      "metadata": {
        "id": "nMsm6L_X6kEq"
      }
    },
    {
      "cell_type": "code",
      "source": [
        "wiki.set_lang(\"hi\")\n",
        "print(wiki.summary(\"Mobile phone\"))"
      ],
      "metadata": {
        "colab": {
          "base_uri": "https://localhost:8080/"
        },
        "id": "wLgZnrdO6vd2",
        "outputId": "d01f309b-0320-4d7d-9606-cc5f15867eeb"
      },
      "execution_count": 54,
      "outputs": [
        {
          "output_type": "stream",
          "name": "stdout",
          "text": [
            "यह उन विभिन्न देशों से मोबाइल फोन ब्रांडों की सूची है, जिनसे इन ब्रांडों की उत्पत्ति होती है।\n"
          ]
        }
      ]
    },
    {
      "cell_type": "code",
      "source": [
        "wiki.set_lang(\"en\")\n",
        "p=wiki.page(\"Mobile phone)\")"
      ],
      "metadata": {
        "id": "rKn3N_Zj45Uo"
      },
      "execution_count": 55,
      "outputs": []
    },
    {
      "cell_type": "markdown",
      "source": [
        "# Get the Title"
      ],
      "metadata": {
        "id": "Ml6399Ip7BvX"
      }
    },
    {
      "cell_type": "code",
      "source": [
        "print(p.title)"
      ],
      "metadata": {
        "colab": {
          "base_uri": "https://localhost:8080/"
        },
        "id": "TFgcaafe5HdL",
        "outputId": "99679e1e-bcbc-4325-cc16-cf9267d07ddd"
      },
      "execution_count": 56,
      "outputs": [
        {
          "output_type": "stream",
          "name": "stdout",
          "text": [
            "Mobile phone\n"
          ]
        }
      ]
    },
    {
      "cell_type": "markdown",
      "source": [
        "Get the URL"
      ],
      "metadata": {
        "id": "OnAnz7z07EkI"
      }
    },
    {
      "cell_type": "code",
      "source": [
        "print(p.url)"
      ],
      "metadata": {
        "colab": {
          "base_uri": "https://localhost:8080/"
        },
        "id": "s1jCogdP5PT0",
        "outputId": "c07471ac-607b-4076-ae1e-aa8325f79191"
      },
      "execution_count": 57,
      "outputs": [
        {
          "output_type": "stream",
          "name": "stdout",
          "text": [
            "https://en.wikipedia.org/wiki/Mobile_phone\n"
          ]
        }
      ]
    },
    {
      "cell_type": "markdown",
      "source": [
        "# Scrape the Article"
      ],
      "metadata": {
        "id": "Fx_t0R4D7KNy"
      }
    },
    {
      "cell_type": "code",
      "source": [
        "print(p.content)"
      ],
      "metadata": {
        "colab": {
          "base_uri": "https://localhost:8080/"
        },
        "id": "iK_qhr-k5StW",
        "outputId": "9abeb657-b3b7-4800-eb4f-97d20d316261"
      },
      "execution_count": 58,
      "outputs": [
        {
          "output_type": "stream",
          "name": "stdout",
          "text": [
            "A mobile phone (cellphone, etc.) is a portable telephone that can make and receive calls over a radio frequency link while the user is moving within a telephone service area, as opposed to a fixed-location phone (landline phone). The radio frequency link establishes a connection to the switching systems of a mobile phone operator, which provides access to the public switched telephone network (PSTN). Modern mobile telephone services use a cellular network architecture and therefore mobile telephones are called cellphones (or \"cell phones\") in North America. In addition to telephony, digital mobile phones support a variety of other services, such as text messaging, multimedia messagIng, email, Internet access (via LTE, 5G NR or Wi-Fi), short-range wireless communications (infrared, Bluetooth), satellite access (navigation, messaging connectivity), business applications, video games and digital photography. Mobile phones offering only basic capabilities are known as feature phones; mobile phones which offer greatly advanced computing capabilities are referred to as smartphones.The first handheld mobile phone was demonstrated by Martin Cooper of Motorola in New York City on 3 April 1973, using a handset weighing c. 2 kilograms (4.4 lbs). In 1979, Nippon Telegraph and Telephone (NTT) launched the world's first cellular network in Japan. In 1983, the DynaTAC 8000x was the first commercially available handheld mobile phone. From 1983 to 2014, worldwide mobile phone subscriptions grew to over seven billion; enough to provide one for every person on Earth. In the first quarter of 2016, the top smartphone developers worldwide were Samsung, Apple and Huawei; smartphone sales represented 78 percent of total mobile phone sales. For feature phones (slang: \"dumbphones\") as of 2016, the top-selling brands were Samsung, Nokia and Alcatel.Mobile phones are considered an important human invention as it has been one of the most widely used and sold pieces of consumer technology. The growth in popularity has been rapid in some places, for example in the UK the total number of mobile phones overtook the number of houses in 1999. Today mobile phones are globally ubiquitous, and in almost half the world's countries, over 90% of the population own at least one.\n",
            "\n",
            "\n",
            "== History ==\n",
            "\n",
            "A handheld mobile radio telephone service was envisioned in the early stages of radio engineering. In 1917, Finnish inventor Eric Tigerstedt filed a patent for a \"pocket-size folding telephone with a very thin carbon microphone\". Early predecessors of cellular phones included analog radio communications from ships and trains. The race to create truly portable telephone devices began after World War II, with developments taking place in many countries. The advances in mobile telephony have been traced in successive \"generations\", starting with the early zeroth-generation (0G) services, such as Bell System's Mobile Telephone Service and its successor, the Improved Mobile Telephone Service. These 0G systems were not cellular, supported few simultaneous calls, and were very expensive.\n",
            "\n",
            "The first handheld cellular mobile phone was demonstrated by John F. Mitchell and Martin Cooper of Motorola in 1973, using a handset weighing 2 kilograms (4.4 lb). The first commercial automated cellular network (1G) analog was launched in Japan by Nippon Telegraph and Telephone in 1979. This was followed in 1981 by the simultaneous launch of the Nordic Mobile Telephone (NMT) system in Denmark, Finland, Norway, and Sweden.  Several other countries then followed in the early to mid-1980s. These first-generation (1G) systems could support far more simultaneous calls but still used analog cellular technology. In 1983, the DynaTAC 8000x was the first commercially available handheld mobile phone.\n",
            "In 1991, the second-generation (2G) digital cellular technology was launched in Finland by Radiolinja on the GSM standard. This sparked competition in the sector as the new operators challenged the incumbent 1G network operators. The GSM standard is a European initiative expressed at the CEPT (\"Conférence Européenne des Postes et Telecommunications\", European Postal and Telecommunications conference). The Franco-German R&D cooperation demonstrated the technical feasibility, and in 1987 a Memorandum of Understanding was signed between 13 European countries who agreed to launch a commercial service by 1991. The first version of the GSM (=2G) standard had 6,000 pages. The IEEE and RSE awarded to Thomas Haug and Philippe Dupuis the 2018 James Clerk Maxwell medal for their contributions to the first digital mobile telephone standard. In 2018, the GSM was used by over 5 billion people in over 220 countries. The GSM (2G) has evolved into 3G, 4G and 5G.  The standardisation body for GSM started at the CEPT Working Group GSM (Group Special Mobile) in 1982 under the umbrella of CEPT. In 1988, ETSI was established and all CEPT standardization activities were transferred to ETSI. Working Group GSM became Technical Committee GSM. In 1991, it became Technical Committee SMG (Special Mobile Group) when ETSI tasked the committee with UMTS (3G).\n",
            "\n",
            "In 2001, the third generation (3G) was launched in Japan by NTT DoCoMo on the WCDMA standard. This was followed by 3.5G, 3G+ or turbo 3G enhancements based on the high-speed packet access (HSPA) family, allowing UMTS networks to have higher data transfer speeds and capacity.\n",
            "By 2009, it had become clear that, at some point, 3G networks would be overwhelmed by the growth of bandwidth-intensive applications, such as streaming media. Consequently, the industry began looking to data-optimized fourth-generation technologies, with the promise of speed improvements up to ten-fold over existing 3G technologies. The first two commercially available technologies billed as 4G were the WiMAX standard, offered in North America by Sprint, and the LTE standard, first offered in Scandinavia by TeliaSonera.\n",
            "5G is a technology and term used in research papers and projects to denote the next major phase in mobile telecommunication standards beyond the 4G/IMT-Advanced standards. The term 5G is not officially used in any specification or official document yet made public by telecommunication companies or standardization bodies such as 3GPP, WiMAX Forum or ITU-R. New standards beyond 4G are currently being developed by standardization bodies, but they are at this time seen as under the 4G umbrella, not for a new mobile generation.\n",
            "\n",
            "\n",
            "== Types ==\n",
            "\n",
            "\n",
            "=== Smartphone ===\n",
            "\n",
            "Smartphones have a number of distinguishing features.  The International Telecommunication Union measures those with Internet connection, which it calls Active Mobile-Broadband subscriptions (which includes tablets, etc.). In the developed world, smartphones have now overtaken the usage of earlier mobile systems. However, in the developing world, they account for around 50% of mobile telephony.\n",
            "\n",
            "\n",
            "=== Feature phone ===\n",
            "\n",
            "Feature phone is a term typically used as a retronym to describe mobile phones which are limited in capabilities in contrast to a modern smartphone. Feature phones typically provide voice calling and text messaging functionality, in addition to basic multimedia and Internet capabilities, and other services offered by the user's wireless service provider. A feature phone has additional functions over and above a basic mobile phone, which is only capable of voice calling and text messaging. Feature phones and basic mobile phones tend to use a proprietary, custom-designed software and user interface. By contrast, smartphones generally use a mobile operating system that often shares common traits across devices.\n",
            "\n",
            "\n",
            "== Infrastructure ==\n",
            "\n",
            "The critical advantage that modern cellular networks have over predecessor systems is the concept of frequency reuse allowing many simultaneous telephone conversations in a given service area. This allows efficient use of the limited radio spectrum allocated to mobile services, and lets thousands of subscribers converse at the same time within a given geographic area. \n",
            "Former systems would cover a service area with one or two powerful base stations with a range of up to tens of kilometres (miles), using only a few sets of radio channels (frequencies). Once these few channels were in use by customers, no further customers could be served until another user vacated a channel. It would be impractical to give every customer a unique channel since there would not be enough bandwidth allocated to the mobile service. As well, technical limitations such as antenna efficiency and receiver design limit the range of frequencies a customer unit could use. \n",
            "A cellular network mobile phone system gets its name from dividing the service area into many small cells, each with a base station with (for example) a useful range on the order of a kilometre (mile). These systems have dozens or hundreds of possible channels allocated to them. When a subscriber is using a given channel for a telephone connection, that frequency is unavailable for other customers in the local cell and in the adjacent cells. However, cells further away can re-use that channel without interference as the subscriber's handset is too far away to be detected. The transmitter power of each base station is coordinated to efficiently service its own cell, but not to interfere with the cells further away. \n",
            "Automation embedded in the customer's handset and in the base stations control all phases of the call, from detecting the presence of a handset in a service area, temporary assignment of a channel to a handset making a call, interface with the land-line side of the network to connect to other subscribers, and collection of billing information for the service. The automation systems can control the \"hand off\" of a customer handset moving between one cell and another so that a call in progress continues without interruption, changing channels if required. In the earliest mobile phone systems by contrast, all control was done manually; the customer would search for an unoccupied channel and speak to a mobile operator to request connection of a call to a landline number or another mobile. At the termination of the call the mobile operator would manually record the billing information.  \n",
            "Mobile phones communicate with cell towers that are placed to give coverage across a telephone service area, which is divided up into 'cells'. Each cell uses a different set of frequencies from neighboring cells, and will typically be covered by three towers placed at different locations. The cell towers are usually interconnected to each other and the phone network and the internet by wired connections. Due to bandwidth limitations each cell will have a maximum number of cell phones it can handle at once. The cells are therefore sized depending on the expected usage density, and may be much smaller in cities. In that case much lower transmitter powers are used to avoid broadcasting beyond the cell.\n",
            "In order to handle the high traffic, multiple towers can be set up in the same area (using different frequencies). This can be done permanently or temporarily such as at special events or in disasters. Cell phone companies will bring a truck with equipment to host the abnormally high traffic.\n",
            "Capacity was further increased when phone companies implemented digital networks. With digital, one frequency can host multiple simultaneous calls.\n",
            "Additionally, short-range Wi-Fi infrastructure is often used by smartphones as much as possible as it offloads traffic from cell networks on to local area networks.\n",
            "\n",
            "\n",
            "== Hardware ==\n",
            "\n",
            "The common components found on all mobile phones are:\n",
            "\n",
            "A central processing unit (CPU), the processor of phones. The CPU is a microprocessor fabricated on a metal–oxide–semiconductor (MOS) integrated circuit (IC) chip.\n",
            "A battery, providing the power source for the phone functions. A modern handset typically uses a lithium-ion battery (LIB), whereas older handsets used nickel–metal hydride (Ni–MH) batteries.\n",
            "An input mechanism to allow the user to interact with the phone. These are a keypad for feature phones, and touch screens for most smartphones (typically with capacitive sensing).\n",
            "A display which echoes the user's typing, and displays text messages, contacts, and more. The display is typically either a liquid-crystal display (LCD) or organic light-emitting diode (OLED) display.\n",
            "Speakers for sound.\n",
            "Subscriber identity module (SIM) cards and removable user identity module (R-UIM) cards.\n",
            "A hardware notification LED on some phonesLow-end mobile phones are often referred to as feature phones and offer basic telephony. Handsets with more advanced computing ability through the use of native software applications are known as smartphones.\n",
            "\n",
            "\n",
            "=== Central processing unit ===\n",
            "Mobile phones have central processing units (CPUs), similar to those in computers, but optimised to operate in low power environments.\n",
            "Mobile CPU performance depends not only on the clock rate (generally given in multiples of hertz) but also the memory hierarchy also greatly affects overall performance. Because of these problems, the performance of mobile phone CPUs is often more appropriately given by scores derived from various standardized tests to measure the real effective performance in commonly used applications.\n",
            "\n",
            "\n",
            "=== Display ===\n",
            "\n",
            "One of the main characteristics of phones is the screen. Depending on the device's type and design, the screen fills most or nearly all of the space on a device's front surface. Many smartphone displays have an aspect ratio of 16:9, but taller aspect ratios became more common in 2017.\n",
            "Screen sizes are often measured in diagonal inches or millimeters; feature phones generally have screen sizes below 90 millimetres (3.5 in). Phones with screens larger than 130 millimetres (5.2 in) are often called \"phablets.\" Smartphones with screens over 115 millimetres (4.5 in) in size are commonly difficult to use with only a single hand, since most thumbs cannot reach the entire screen surface; they may need to be shifted around in the hand, held in one hand and manipulated by the other, or used in place with both hands. Due to design advances, some modern smartphones with large screen sizes and \"edge-to-edge\" designs have compact builds that improve their ergonomics, while the shift to taller aspect ratios have resulted in phones that have larger screen sizes whilst maintaining the ergonomics associated with smaller 16:9 displays.Liquid-crystal displays are the most common; others are IPS, LED, OLED, and AMOLED displays. Some displays are integrated with pressure-sensitive digitizers, such as those developed by Wacom and Samsung, and Apple's \"3D Touch\" system.\n",
            "\n",
            "\n",
            "=== Sound ===\n",
            "In sound, smartphones and feature phones vary little. Some audio-quality enhancing features, such as Voice over LTE and HD Voice, have appeared and are often available on newer smartphones.  Sound quality can remain a problem due to the design of the phone, the quality of the cellular network and compression algorithms used in long-distance calls.  Audio quality can be improved using a VoIP application over WiFi. Cellphones have small speakers so that the user can use a speakerphone feature and talk to a person on the phone without holding it to their ear. The small speakers can also be used to listen to digital audio files of music or speech or watch videos with an audio component, without holding the phone close to the ear.\n",
            "\n",
            "\n",
            "=== Battery ===\n",
            "The average phone battery lasts 2–3 years at best. Many of the wireless devices use a Lithium-Ion (Li-Ion) battery, which charges 500–2500 times, depending on how users take care of the battery and the charging techniques used. It is only natural for these rechargeable batteries to chemically age, which is why the performance of the battery when used for a year or two will begin to deteriorate. Battery life can be extended by draining it regularly, not overcharging it, and keeping it away from heat.\n",
            "\n",
            "\n",
            "=== SIM card ===\n",
            "\n",
            "Mobile phones require a small microchip called a Subscriber Identity Module or SIM card, in order to function. The SIM card is approximately the size of a small postage stamp and is usually placed underneath the battery in the rear of the unit. The SIM securely stores the service-subscriber key (IMSI) and the Ki used to identify and authenticate the user of the mobile phone. The SIM card allows users to change phones by simply removing the SIM card from one mobile phone and inserting it into another mobile phone or broadband telephony device, provided that this is not prevented by a SIM lock. The first SIM card was made in 1991 by Munich smart card maker Giesecke & Devrient for the Finnish wireless network operator Radiolinja.A hybrid mobile phone can hold up to four SIM cards, with a phone having a different device identifier for each SIM Card. SIM and R-UIM cards may be mixed together to allow both GSM and CDMA networks to be accessed. From 2010 onwards, such phones became popular in emerging markets, and this was attributed to the desire to obtain the lowest calling costs.\n",
            "When the removal of a SIM card is detected by the operating system, it may deny further operation until a reboot.\n",
            "\n",
            "\n",
            "== Software ==\n",
            "\n",
            "\n",
            "=== Software platforms ===\n",
            "\n",
            "Feature phones have basic software platforms. Smartphones have advanced software platforms. Android OS has been the best-selling OS worldwide on smartphones since 2011.\n",
            "\n",
            "\n",
            "=== Mobile app ===\n",
            "\n",
            "A mobile app is a computer program designed to run on a mobile device, such as a smartphone. The term \"app\" is a shortening of the term \"software application\".\n",
            "\n",
            "Messaging\n",
            "\n",
            "A common data application on mobile phones is Short Message Service (SMS) text messaging. The first SMS message was sent from a computer to a mobile phone in 1992 in the UK while the first person-to-person SMS from phone to phone was sent in Finland in 1993. The first mobile news service, delivered via SMS, was launched in Finland in 2000, and subsequently many organizations provided \"on-demand\" and \"instant\" news services by SMS.  Multimedia Messaging Service (MMS) was introduced in March 2002.\n",
            "\n",
            "\n",
            "=== Application stores ===\n",
            "\n",
            "The introduction of Apple's App Store for the iPhone and iPod Touch in July 2008 popularized manufacturer-hosted online distribution for third-party applications (software and computer programs) focused on a single platform. There are a huge variety of apps, including video games, music products and business tools. Up until that point, smartphone application distribution depended on third-party sources providing applications for multiple platforms, such as GetJar, Handango, Handmark, and PocketGear. Following the success of the App Store, other smartphone manufacturers launched application stores, such as Google's Android Market (later renamed to the Google Play Store), RIM's BlackBerry App World, or Android-related app stores like Aptoide, Cafe Bazaar, F-Droid, GetJar, and Opera Mobile Store. In February 2014, 93% of mobile developers were targeting smartphones first for mobile app development.\n",
            "\n",
            "\n",
            "== Sales ==\n",
            "\n",
            "\n",
            "=== By manufacturer ===\n",
            "\n",
            "As of 2022, the top five manufacturers worldwide were Samsung (21%), Apple (16%), Xiaomi (13%), Oppo (10%), and Vivo (9%).\n",
            "HistoryFrom 1983 to 1998, Motorola was market leader in mobile phones. Nokia was the market leader in mobile phones from 1998 to 2012. In Q1 2012, Samsung surpassed Nokia, selling 93.5 million units as against Nokia's 82.7 million units. Samsung has retained its top position since then. \n",
            "Aside from Motorola, European brands such as Nokia, Siemens and Ericsson once held large sway over the global mobile phone market, and many new technologies were pioneered in Europe. By 2010, the influence of European companies had significantly decreased due to fierce competition from American and Asian companies, to where most technical innovation had shifted. Apple and Google, both of the United States, also came to dominate mobile phone software.\n",
            "\n",
            "\n",
            "=== By mobile phone operator ===\n",
            "The world's largest individual mobile operator by number of subscribers is China Mobile, which has over 902 million mobile phone subscribers as of June 2018. Over 50 mobile operators have over ten million subscribers each, and over 150 mobile operators had at least one million subscribers by the end of 2009. In 2014, there were more than seven billion mobile phone subscribers worldwide, a number that is expected to keep growing.\n",
            "\n",
            "\n",
            "== Use ==\n",
            "\n",
            "Mobile phones are used for a variety of purposes, such as keeping in touch with family members, for conducting business, and in order to have access to a telephone in the event of an emergency. Some people carry more than one mobile phone for different purposes, such as for business and personal use. Multiple SIM cards may be used to take advantage of the benefits of different calling plans.  For example, a particular plan might provide for cheaper local calls, long-distance calls, international calls, or roaming.\n",
            "The mobile phone has been used in a variety of diverse contexts in society.  For example:\n",
            "\n",
            "A study by Motorola found that one in ten mobile phone subscribers have a second phone that is often kept secret from other family members. These phones may be used to engage in such activities as extramarital affairs or clandestine business dealings.\n",
            "Some organizations assist victims of domestic violence by providing mobile phones for use in emergencies. These are often refurbished phones.\n",
            "The advent of widespread text-messaging has resulted in the cell phone novel, the first literary genre to emerge from the cellular age, via text messaging to a website that collects the novels as a whole.\n",
            "Mobile telephony also facilitates activism and citizen journalism.\n",
            "The United Nations reported that mobile phones have spread faster than any other form of technology and can improve the livelihood of the poorest people in developing countries, by providing access to information in places where landlines or the Internet are not available, especially in the least developed countries. Use of mobile phones also spawns a wealth of micro-enterprises, by providing such work as selling airtime on the streets and repairing or refurbishing handsets.\n",
            "In Mali and other African countries, people used to travel from village to village to let friends and relatives know about weddings, births, and other events.  This can now be avoided in areas with mobile phone coverage, which are usually more extensive than areas with just land-line penetration.\n",
            "The TV industry has recently started using mobile phones to drive live TV viewing through mobile apps, advertising, social TV, and mobile TV. It is estimated that 86% of Americans use their mobile phone while watching TV.\n",
            "In some parts of the world, mobile phone sharing is common. Cell phone sharing is prevalent in urban India, as families and groups of friends often share one or more mobile phones among their members. There are obvious economic benefits, but often familial customs and traditional gender roles play a part. It is common for a village to have access to only one mobile phone, perhaps owned by a teacher or missionary, which is available to all members of the village for necessary calls.\n",
            "\n",
            "\n",
            "=== Content distribution ===\n",
            "In 1998, one of the first examples of distributing and selling media content through the mobile phone was the sale of ringtones by Radiolinja in Finland. Soon afterwards, other media content appeared, such as news, video games, jokes, horoscopes, TV content and advertising. Most early content for mobile phones tended to be copies of legacy media, such as banner advertisements or TV news highlight video clips. Recently, unique content for mobile phones has been emerging, from ringtones and ringback tones to mobisodes, video content that has been produced exclusively for mobile phones.\n",
            "\n",
            "\n",
            "=== Mobile banking and payment ===\n",
            "\n",
            "In many countries, mobile phones are used to provide mobile banking services, which may include the ability to transfer cash payments by secure SMS text message. Kenya's M-PESA mobile banking service, for example, allows customers of the mobile phone operator Safaricom to hold cash balances which are recorded on their SIM cards. Cash can be deposited or withdrawn from M-PESA accounts at Safaricom retail outlets located throughout the country and can be transferred electronically from person to person and used to pay bills to companies.\n",
            "Branchless banking has also been successful in South Africa and the Philippines. A pilot project in Bali was launched in 2011 by the International Finance Corporation and an Indonesian bank, Bank Mandiri.Mobile payments were first trialled in Finland in 1998 when two Coca-Cola vending machines in Espoo were enabled to work with SMS payments. Eventually, the idea spread and in 1999, the Philippines launched the country's first commercial mobile payments systems with mobile operators Globe and Smart.Some mobile phones can make mobile payments via direct mobile billing schemes, or through contactless payments if the phone and the point of sale support near field communication (NFC). Enabling contactless payments through NFC-equipped mobile phones requires the co-operation of manufacturers, network operators, and retail merchants.\n",
            "\n",
            "\n",
            "=== Mobile tracking ===\n",
            "\n",
            "Mobile phones are commonly used to collect location data. While the phone is turned on, the geographical location of a mobile phone can be determined easily (whether it is being used or not) using a technique known as multilateration to calculate the differences in time for a signal to travel from the mobile phone to each of several cell towers near the owner of the phone.The movements of a mobile phone user can be tracked by their service provider and, if desired, by law enforcement agencies and their governments. Both the SIM card and the handset can be tracked.China has proposed using this technology to track the commuting patterns of Beijing city residents.  In the UK and US, law enforcement and intelligence services use mobile phones to perform surveillance operations.Hackers have been able to track a phone's location, read messages, and record calls, through obtaining a subscribers phone number.\n",
            "\n",
            "\n",
            "=== While driving ===\n",
            "\n",
            "Mobile phone use while driving, including talking on the phone, texting, or operating other phone features, is common but controversial. It is widely considered dangerous due to distracted driving. Being distracted while operating a motor vehicle has been shown to increase the risk of accidents. In September 2010, the US National Highway Traffic Safety Administration (NHTSA) reported that 995 people were killed by drivers distracted by cell phones. In March 2011, a US insurance company, State Farm Insurance, announced the results of a study which showed 19% of drivers surveyed accessed the Internet on a smartphone while driving. Many jurisdictions prohibit the use of mobile phones while driving. In Egypt, Israel, Japan, Portugal, and Singapore, both handheld and hands-free use of a mobile phone (which uses a speakerphone) is banned.  In other countries, including the UK and France and in many US states, only handheld phone use is banned while hands-free use is permitted.\n",
            "A 2011 study reported that over 90% of college students surveyed text (initiate, reply or read) while driving.\n",
            "The scientific literature on the dangers of driving while sending a text message from a mobile phone, or texting while driving, is limited. A simulation study at the University of Utah found a sixfold increase in distraction-related accidents when texting.Due to the increasing complexity of mobile phones, they are often more like mobile computers in their available uses. This has introduced additional difficulties for law enforcement officials when attempting to distinguish one usage from another in drivers using their devices. This is more apparent in countries which ban both handheld and hands-free usage, rather than those which ban handheld use only, as officials cannot easily tell which function of the mobile phone is being used simply by looking at the driver. This can lead to drivers being stopped for using their device illegally for a phone call when, in fact, they were using the device legally, for example, when using the phone's incorporated controls for car stereo, GPS or satnav.\n",
            "A 2010 study reviewed the incidence of mobile phone use while cycling and its effects on behaviour and safety. In 2013, a national survey in the US reported the number of drivers who reported using their cellphones to access the Internet while driving had risen to nearly one of four. A study conducted by the University of Vienna examined approaches for reducing inappropriate and problematic use of mobile phones, such as using mobile phones while driving.Accidents involving a driver being distracted by talking on a mobile phone have begun to be prosecuted as negligence similar to speeding. In the United Kingdom, from 27 February 2007, motorists who are caught using a hand-held mobile phone while driving will have three penalty points added to their license in addition to the fine of £60. This increase was introduced to try to stem the increase in drivers ignoring the law. Japan prohibits all mobile phone use while driving, including use of hands-free devices.  New Zealand has banned hand-held cell phone use since 1 November 2009. Many states in the United States have banned texting on cell phones while driving. Illinois became the 17th American state to enforce this law. As of July 2010, 30 states had banned texting while driving, with Kentucky becoming the most recent addition on 15 July.Public Health Law Research maintains a list of distracted driving laws in the United States. This database of laws provides a comprehensive view of the provisions of laws that restrict the use of mobile communication devices while driving for all 50 states and the District of Columbia between 1992 when first law was passed, through 1 December 2010. The dataset contains information on 22 dichotomous, continuous or categorical variables including, for example, activities regulated (e.g., texting versus talking, hands-free versus handheld), targeted populations, and exemptions.\n",
            "\n",
            "\n",
            "=== While walking ===\n",
            "\n",
            "In 2010, an estimated 1500 pedestrians were injured in the US while using a cellphone and some jurisdictions have attempted to ban pedestrians from using their cellphones. Other countries, such as China and the Netherlands, have introduced special lanes for smartphone users to help direct and manage them.\n",
            "\n",
            "\n",
            "=== Health effects ===\n",
            "\n",
            "The effect of mobile phone radiation on human health is the subject of recent interest and study, as a result of the enormous increase in mobile phone usage throughout the world. Mobile phones use electromagnetic radiation in the microwave range, which some believe may be harmful to human health. A large body of research exists, both epidemiological and experimental, in non-human animals and in humans.  The majority of this research shows no definite causative relationship between exposure to mobile phones and harmful biological effects in humans. This is often paraphrased simply as the balance of evidence showing no harm to humans from mobile phones, although a significant number of individual studies do suggest such a relationship, or are inconclusive. Other digital wireless systems, such as data communication networks, produce similar radiation.On 31 May 2011, the World Health Organization stated that mobile phone use may possibly represent a long-term health risk, classifying mobile phone radiation as \"possibly carcinogenic to humans\" after a team of scientists reviewed studies on mobile phone safety. The mobile phone is in category 2B, which ranks it alongside coffee and other possibly carcinogenic substances.Some recent studies have found an association between mobile phone use and certain kinds of brain and salivary gland tumors. Lennart Hardell and other authors of a 2009 meta-analysis of 11 studies from peer-reviewed journals concluded that cell phone usage for at least ten years \"approximately doubles the risk of being diagnosed with a brain tumor on the same ('ipsilateral') side of the head as that preferred for cell phone use\".One study of past mobile phone use cited in the report showed a \"40% increased risk for gliomas (brain cancer) in the highest category of heavy users (reported average: 30 minutes per day over a 10‐year period)\". This is a reversal of the study's prior position that cancer was unlikely to be caused by cellular phones or their base stations and that reviews had found no convincing evidence for other health effects. However, a study published 24 March 2012, in the British Medical Journal questioned these estimates because the increase in brain cancers has not paralleled the increase in mobile phone use. Certain countries, including France, have warned against the use of mobile phones by minors in particular, due to health risk uncertainties. Mobile pollution by transmitting electromagnetic waves can be decreased up to 90% by adopting the circuit as designed in mobile phone and mobile exchange.In May 2016, preliminary findings of a long-term study by the US government suggested that radio-frequency (RF) radiation, the type emitted by cell phones, can cause cancer.\n",
            "\n",
            "\n",
            "=== Educational impact ===\n",
            "\n",
            "A study by the London School of Economics found that banning mobile phones in schools could increase pupils' academic performance, providing benefits equal to one extra week of schooling per year.\n",
            "\n",
            "\n",
            "=== Electronic waste regulation ===\n",
            "\n",
            "Studies have shown that around 40–50% of the environmental impact of mobile phones occurs during the manufacture of their printed wiring boards and integrated circuits.The average user replaces their mobile phone every 11 to 18 months, and the discarded phones then contribute to electronic waste.  Mobile phone manufacturers within Europe are subject to the WEEE directive, and Australia has introduced a mobile phone recycling scheme.Apple Inc. had an advanced robotic disassembler and sorter called Liam specifically for recycling outdated or broken iPhones.\n",
            "\n",
            "\n",
            "=== Theft ===\n",
            "According to the Federal Communications Commission, one out of three robberies involve the theft of a cellular phone. Police data in San Francisco show that half of all robberies in 2012 were thefts of cellular phones. An online petition on Change.org, called Secure our Smartphones, urged smartphone manufacturers to install kill switches in their devices to make them unusable if stolen. The petition is part of a joint effort by New York Attorney General Eric Schneiderman and San Francisco District Attorney George Gascón and was directed to the CEOs of the major smartphone manufacturers and telecommunication carriers. On 10 June 2013, Apple announced that it would install a \"kill switch\" on its next iPhone operating system, due to debut in October 2013.All mobile phones have a unique identifier called IMEI. Anyone can report their phone as lost or stolen with their Telecom Carrier, and the IMEI would be blacklisted with a central registry. Telecom carriers, depending upon local regulation can or must implement blocking of blacklisted phones in their network. There are, however, a number of ways to circumvent a blacklist. One method is to send the phone to a country where the telecom carriers are not required to implement the blacklisting and sell it there, another involves altering the phone's IMEI number. Even so, mobile phones typically have less value on the second-hand market if the phones original IMEI is blacklisted.\n",
            "\n",
            "\n",
            "=== Conflict minerals ===\n",
            "\n",
            "Demand for metals used in mobile phones and other electronics fuelled the Second Congo War, which claimed almost 5.5 million lives. In a 2012 news story, The Guardian reported: \"In unsafe mines deep underground in eastern Congo, children are working to extract minerals essential for the electronics industry. The profits from the minerals finance the bloodiest conflict since the second world war; the war has lasted nearly 20 years and has recently flared up again. For the last 15 years, the Democratic Republic of the Congo has been a major source of natural resources for the mobile phone industry.\" The company Fairphone has worked to develop a mobile phone that does not contain conflict minerals.\n",
            "\n",
            "\n",
            "=== Kosher phones ===\n",
            "Due to concerns by the Orthodox Jewish rabbinate in Britain that texting by youths could waste time and lead to \"immodest\" communication, the rabbinate recommended that phones with text-messaging capability not be used by children; to address this, they gave their official approval to a brand of \"Kosher\" phones with no texting capabilities.  Although these phones are intended to prevent immodesty, some vendors report good sales to adults who prefer the simplicity of the devices; other Orthodox Jews question the need for them.In Israel, similar phones to kosher phones with restricted features exist to observe the sabbath; under Orthodox Judaism, the use of any electrical device is generally prohibited during this time, other than to save lives, or reduce the risk of death or similar needs. Such phones are approved for use by essential workers, such as health, security, and public service workers.\n",
            "\n",
            "\n",
            "== See also ==\n",
            "\n",
            "\n",
            "== Notes ==\n",
            "\n",
            "\n",
            "== References ==\n",
            "\n",
            "\n",
            "== Further reading ==\n",
            "\n",
            "\n",
            "== External links ==\n",
            "\n",
            "\"How Cell Phones Work\" at HowStuffWorks\n",
            "\"The Long Odyssey of the Cell Phone\", 15 photos with captions from Time magazine\n",
            "Cell Phone, the ring heard around the world – a video documentary by the Canadian Broadcasting Corporation\n"
          ]
        }
      ]
    },
    {
      "cell_type": "code",
      "source": [
        "print(p.images)"
      ],
      "metadata": {
        "colab": {
          "base_uri": "https://localhost:8080/"
        },
        "id": "JNs5mn6k5Zfi",
        "outputId": "014b0ddd-b41e-4b74-c767-4de364252375"
      },
      "execution_count": 59,
      "outputs": [
        {
          "output_type": "stream",
          "name": "stdout",
          "text": [
            "['https://upload.wikimedia.org/wikipedia/commons/1/1f/2007Computex_e21Forum-MartinCooper.jpg', 'https://upload.wikimedia.org/wikipedia/commons/0/05/Active_mobile_broadband_subscriptions_2007-2014.svg', 'https://upload.wikimedia.org/wikipedia/commons/0/0f/Android_phones.jpg', 'https://upload.wikimedia.org/wikipedia/commons/f/fd/Crowd_of_people_with_phones.jpg', 'https://upload.wikimedia.org/wikipedia/commons/f/f9/Crystal_Clear_app_linneighborhood.svg', 'https://upload.wikimedia.org/wikipedia/commons/e/ee/Dupuis_Haug_GSM_around_1990.jpg', 'https://upload.wikimedia.org/wikipedia/commons/7/74/DynaTAC8000X.jpg', 'https://upload.wikimedia.org/wikipedia/commons/e/ee/Frequency_reuse.svg', 'https://upload.wikimedia.org/wikipedia/commons/7/72/Hand_held_phone_in_car.JPG', 'https://upload.wikimedia.org/wikipedia/commons/c/c6/Handy_schrott_mobile_phone_scrap.jpg', 'https://upload.wikimedia.org/wikipedia/commons/e/e3/IPhone_Text_Message_Amber_Alert_1882467856_o.jpg', 'https://upload.wikimedia.org/wikipedia/commons/8/8d/Mobile_Phone_Evolution_1992_-_2014.jpg', 'https://upload.wikimedia.org/wikipedia/commons/6/6e/Mobile_payment_01.jpg', 'https://upload.wikimedia.org/wikipedia/commons/c/c7/Mobile_phone_PHS_Japan_1997-2003.jpg', 'https://upload.wikimedia.org/wikipedia/commons/e/e7/Mobile_phone_subscribers_1997-2014_ITU.svg', 'https://upload.wikimedia.org/wikipedia/commons/c/cd/NocellphonesSouthsidePlaceTX.JPG', 'https://upload.wikimedia.org/wikipedia/commons/4/4e/Telecom-icon.svg', 'https://upload.wikimedia.org/wikipedia/commons/b/b8/Telephone_icon_blue_gradient.svg', 'https://upload.wikimedia.org/wikipedia/commons/7/7f/Typical_cellphone_SIM_cards.jpg', 'https://upload.wikimedia.org/wikipedia/commons/1/1c/Wiki_letter_w_cropped.svg', 'https://upload.wikimedia.org/wikipedia/commons/d/dd/Wikivoyage-Logo-v3-icon.svg', 'https://upload.wikimedia.org/wikipedia/commons/9/99/Wiktionary-logo-en-v2.svg', 'https://upload.wikimedia.org/wikipedia/en/4/4a/Commons-logo.svg', 'https://upload.wikimedia.org/wikipedia/en/8/8a/OOjs_UI_icon_edit-ltr-progressive.svg', 'https://upload.wikimedia.org/wikipedia/en/1/1b/Semi-protection-shackle.svg', 'https://upload.wikimedia.org/wikipedia/en/9/96/Symbol_category_class.svg', 'https://upload.wikimedia.org/wikipedia/en/d/db/Symbol_list_class.svg']\n"
          ]
        }
      ]
    },
    {
      "cell_type": "code",
      "source": [
        "print(p.links)"
      ],
      "metadata": {
        "colab": {
          "base_uri": "https://localhost:8080/"
        },
        "id": "D59VaGxL5e2B",
        "outputId": "03082450-5e95-4f7b-e50d-c4a1402ca10e"
      },
      "execution_count": 60,
      "outputs": [
        {
          "output_type": "stream",
          "name": "stdout",
          "text": [
            "['16:9', '1G', '2G', '3D Touch', '3G', '3GPP', '3G adoption', '3rd Generation Partnership Project 2', '4G', '5G', '5G-Advanced', '5G NR', '5G NR frequency bands', '6G (network)', 'AMOLED', 'AMR radiotelephone network (Czechoslovakia)', 'ARPANET', 'Advanced Mobile Phone System', 'Advanced Mobile Telephone System', 'Airplane mode', 'Alcatel Mobile', 'Alexander Graham Bell', 'Alexander Stepanovich Popov', 'Alfred Vail', 'Almon Brown Strowger', 'Altai (mobile telephone system)', 'Amos Dolbear', 'Analog electronics', 'Analog signal', 'Android (operating system)', 'Animal model', 'Antonio Meucci', 'Apple Inc.', 'Aptoide', 'Audio coding format', 'Authentication Center', 'Autoradiopuhelin', 'Autotel', 'B-Netz', 'BITNET', 'Bali', 'Bandwidth (computing)', 'Bank Mandiri', 'Base station', 'Battery (electricity)', 'Beacon', 'Bell System', 'BlackBerry 10', 'BlackBerry App World', 'Bluetooth', 'Bob Kahn', 'Box breaker', 'Branchless banking', 'British Medical Journal', 'Business Insider', 'C-Netz', 'CDMA', 'CDMA2000', 'CDMA frequency bands', 'CEO', 'CT1', 'CT2', 'CYCLADES', 'Cable protection system', 'Cable television', 'Cafe Bazaar', 'Camera phone', 'Camille Tissot', 'Canadian Broadcasting Corporation', 'Capacitive sensing', 'Car phone', 'Carrier IQ', 'Categorical variable', 'CdmaOne', 'Cell Phone', 'Cell Phone (film)', 'Cell phone novel', 'Cell towers', 'Cellphone surveillance', 'Cellular digital packet data', 'Cellular frequencies', 'Cellular network', 'Central processing unit', 'Change.org', 'Channel access method', 'Channel capacity', 'Charles Bourseul', 'Charles Grafton Page', 'Charles K. Kao', 'Charles Sumner Tainter', 'Charles Wheatstone', 'Child labour', 'China Mobile', 'Circuit Switched Data', 'Circuit switching', 'Citizen journalism', 'Clamshell design', 'Claude Chappe', 'Claude Shannon', 'Coaxial cable', 'Code-division multiple access', 'Coffee', 'Common external power supply', 'Communication protocol', 'Communications satellite', 'Comparison of Symbian devices', 'Comparison of mobile phone standards', 'Comparison of smartphones', 'Computer network', 'Conflict minerals', 'Conflict resource', 'Contactless payment', 'Content distribution', 'Customer proprietary network information', 'Cycling', 'DC-HSDPA', 'DECT-5G', 'Daniel Davis Jr.', 'DataTAC', 'Data communication', 'Data compression', 'Data transmission circuit', 'Dawon Kahng', 'De Quervain syndrome', 'Democrat and Chronicle', 'Democratic Republic of the Congo', 'Digital AMPS', 'Digital enhanced cordless telecommunications', 'Digital media', 'Digital media use and mental health', 'Digital photography', 'Digital television', 'Discrete cosine transform', 'Display aspect ratio', 'Display device', 'Distracted driving', 'Doi (identifier)', 'Donald Davies', 'Drums in communication', 'Dual SIM', 'E-UTRA', 'ETSI', \"Edholm's law\", 'Edwin Howard Armstrong', 'Electrical telegraph', 'Electromagnetic radiation', 'Electronic waste', 'Elisha Gray', 'Email', 'Emile Berliner', 'Enhanced Data rates for GSM Evolution', 'Epidemiology', 'Eric Schneiderman', 'Eric Tigerstedt', 'Ericsson', 'Erna Schneider Hoover', 'Espoo', 'Ethernet', 'Europe', 'European Conference of Postal and Telecommunications Administrations', 'Evolution-Data Optimized', 'Evolved High Speed Packet Access', 'F-Droid', 'Fairphone', 'Fax', 'Feature phone', 'Federal Communications Commission', 'Fiber-optic communication', 'FidoNet', 'Field telephone', 'Finland', 'Foldable smartphone', 'Form factor (mobile phones)', 'Francis Blake (telephone)', 'Free-space optical communication', 'Freedom of Mobile Multimedia Access', 'Frequency-division multiple access', 'Frequency-division multiplexing', 'Frequency reuse', 'GPS', 'GSM', 'GSM frequency bands', 'GSM services', 'Gardiner Greene Hubbard', 'General Packet Radio Service', 'Generic Access Network', 'George Gascón', 'Gerard Goggin', 'GetJar', 'Giesecke & Devrient', 'Gliomas', 'Globe Telecom', 'Guglielmo Marconi', 'HD Voice', 'HMD Global', 'Handango', 'Handmark', 'Handphone', 'Handphone (film)', 'Harold Hopkins (physicist)', 'Hedy Lamarr', 'Heliograph', 'Henry Sutton (inventor)', 'Hertz', 'Hicap', 'High-Speed Packet Access', 'High Speed Downlink Packet Access', 'High Speed Packet Access', 'High Speed Uplink Packet Access', 'HiperMAN', 'History of broadcasting', 'History of mobile phones', 'History of prepaid mobile phones', 'History of radio', 'History of telecommunication', 'History of television', 'History of the Internet', 'History of the telephone', 'History of the transistor', 'History of videotelephony', 'HowStuffWorks', 'Howard Rheingold', 'Huawei', 'Hydraulic telegraph', 'IDEN', 'IEEE', 'IEEE/RSE James Clerk Maxwell Medal', 'IEEE 802.16', 'IEEE 802.20', 'IMEI', 'IMT-2000', 'IMT-2020', 'IMT-Advanced', 'IMT Advanced', 'IOS 7', 'IOS jailbreaking', 'IPS panel', 'IP Multimedia Subsystem', 'IPhone', 'IPhone 6 Plus', 'ISBN (identifier)', 'ISSN (identifier)', 'ITU-R', 'Image compression', 'Immodesty', 'Improved Mobile Telephone Service', 'Inch', 'Indonesia', 'Information Age', 'Information revolution', 'Infrared Data Association', 'Innocenzo Manzetti', 'Instant messaging', 'Institute of Electrical and Electronics Engineers', 'Integrated Services Digital Network', 'Integrated circuit', 'International Finance Corporation', 'International Mobile Station Equipment Identity', 'International Mobile Subscriber Identity', 'International Telecommunication Union', 'Internet', 'Internet2', 'Internet access', 'Internet video', 'JANET', 'Jagadish Chandra Bose', 'Japan', 'Japanese mobile phone culture', 'Johann Philipp Reis', 'John Bardeen', 'John Francis Mitchell', 'John Logie Baird', 'Jun-ichi Nishizawa', 'Keypad', 'Kill switch', 'LED', 'LTE-M', 'LTE-TDD', 'LTE (telecommunication)', 'LTE Advanced', 'LTE Advanced Pro', 'LTE frequency bands', 'Landline', 'Landline phone', 'Law', 'Least developed countries', 'Lee de Forest', 'Legacy media', 'Legality of recording by civilians', 'Lennart Hardell', 'Liquid-crystal display', 'List of 3D-enabled mobile phones', 'List of IARC Group 2B carcinogens', 'List of Internet pioneers', 'List of Windows phones', 'List of best-selling mobile phones', 'List of countries by number of mobile phones in use', 'List of mobile app distribution platforms', 'List of mobile network operators', 'List of mobile phone brands by country', 'List of mobile phone generations', 'List of open-source mobile phones', 'List of telecommunications regulatory bodies', 'Lithium-ion battery', 'Local area network', 'London Evening Standard', 'London School of Economics', 'Long-distance call', 'Loudspeaker', 'M-PESA', 'M-learning', 'MHealth', 'MIMO', 'MOSFET', 'MTD (mobile network)', 'Mali', 'Martin Cooper (inventor)', 'Mass media', 'Memory hierarchy', 'Metal–oxide–semiconductor', 'Microprocessor', 'Microwave', 'Millimeter', 'Misdialed call', 'Missed call', 'Mobile Internet device', 'Mobile TV', 'Mobile Telephone Service', 'Mobile VoIP', 'Mobile advertising', 'Mobile app', 'Mobile app development', 'Mobile application management', 'Mobile banking', 'Mobile blogging', 'Mobile broadband', 'Mobile campaign', 'Mobile cloud computing', 'Mobile comic', 'Mobile commerce', 'Mobile content', 'Mobile dating', 'Mobile developers', 'Mobile device', 'Mobile donating', 'Mobile gambling', 'Mobile game', 'Mobile local search', 'Mobile marketing', 'Mobile music', 'Mobile news', 'Mobile operating system', 'Mobile payment', 'Mobile phone accessories', 'Mobile phone charm', 'Mobile phone feature', 'Mobile phone features', 'Mobile phone operator', 'Mobile phone overuse', 'Mobile phone radiation and health', 'Mobile phone recycling', 'Mobile phone signal', 'Mobile phone spam', 'Mobile phone tracking', 'Mobile phone use in schools', 'Mobile phones and driving safety', 'Mobile phones in prison', 'Mobile phones on aircraft', 'Mobile radio telephone', 'Mobile search', 'Mobile security', 'Mobile social address book', 'Mobile social network', 'Mobile technology', 'Mobile telephony', 'Mobile television', 'Mobile ticketing', 'Mobile web', 'Mobisodes', 'Mobitex', 'Mohamed M. Atalla', 'Molecular communication', 'Mother Jones (magazine)', 'Motorola', 'Motorola DynaTAC', 'Motorola MicroTAC', 'Motorola Mobility', 'Multi-band device', 'Multilateration', 'Multimedia', 'Multimedia Broadcast Multicast Service', 'Multimedia Messaging Service', 'Multiplexing', 'NPL network', 'NR-IIoT', 'NTT DoCoMo', 'Narinder Singh Kapany', 'Narrowband IoT', 'Nasir Ahmed (engineer)', 'National Highway Traffic Safety Administration', 'Near field communication', 'Network switch', 'Network topology', 'New York City', 'Next-generation network', 'Next Generation Mobile Networks', 'Nickel–metal hydride', 'Nikola Tesla', 'Nippon Telegraph and Telephone', 'Node (networking)', 'Nokia', 'Nomophobia', 'Nordic Mobile Telephone', 'Notification LED', 'Nuisance call', 'OLED', 'OLT (mobile network)', 'OPPO Electronics', 'Oliver Heaviside', 'Online video platform', 'OpenBTS', 'Opera Mobile Store', 'Optical communication', 'Optical fiber', 'Optical head-mounted display', 'Optical telegraph', 'Orbital angular momentum multiplexing', 'Organic light-emitting diode', 'Original equipment manufacturer', 'Orthodox Jewish', 'Orthogonal frequency-division multiple access', 'Orthogonal frequency-division multiplexing', 'Osmocom', 'Outline of telecommunication', 'PMC (identifier)', 'PMID (identifier)', 'Packet switching', 'Pager', 'Paul Baran', 'Paul Levinson', 'Personal Digital Cellular', 'Personal Handy-phone System', 'Personal digital assistant', 'Phablet', 'Phantom vibration syndrome', 'Philippe Dupuis (engineer)', 'Philippines', 'Philo Farnsworth', 'Phone cloning', 'Phone tag', 'Photography and the law', 'Photophone', 'Plain old telephone service', 'PocketGear', 'Point of sale', 'Polarization-division multiplexing', 'Prepaid mobile phone', 'Professional mobile radio', 'Projector phone', 'Public health law', 'Public switched telephone network', 'Push-button telephone', 'Push-to-talk', 'Push email', 'R-UIM', 'Radia Perlman', 'Radio frequency', 'Radio network', 'Radio spectrum', 'Radio wave', 'Radiolinja', 'Radiotelephone', 'Rechargeable battery', 'Reginald Fessenden', 'Removable User Identity Module', 'Removable user identity module', 'Restrictions on cell phone use by U.S. drivers', 'Restrictions on cell phone use by US drivers', 'Restrictions on cell phone use while driving in the United States', 'Retronym', 'Rich Communication Services', 'Ringback tones', 'Ringtone', 'Roaming', 'Robert Hooke', 'Robert Metcalfe', 'Rooting (Android)', 'Royal Society of Edinburgh', 'S2CID (identifier)', 'SIM card', 'SIM lock', 'SMS', 'SMS language', 'Sadie Plant', 'Safaricom', 'Samsung', 'Samsung Electronics', 'Samuel Morse', 'Satellite navigation', 'Satellite phone', 'Satnav', 'Second Congo War', 'Self-organized time-division multiple access', 'Selfie', 'Semaphore', 'Semiconductor', 'Semiconductor device', 'Shabbat', 'Short Message Service', 'Siemens', 'Silent mode', 'Slang', 'Slate (magazine)', 'Smart Communications', 'Smartphone', 'Smartphones and pedestrian safety', 'Smartwatch', 'Smoke signal', 'Smombie', 'Social TV', 'Social media', 'Software', 'Space-division multiple access', 'Speakerphone', 'Spectral efficiency', 'Spread spectrum', 'Springer Science & Business Media', 'Sprint Corporation', 'State Farm Insurance', 'Store and forward', 'Streaming media', 'Streaming television', 'Submarine communications cable', 'Subscriber Identity Module', 'Subscriber identity module', 'Surveillance', 'TD-CDMA', 'TD-SCDMA', 'Telautograph', 'Telecommunication circuit', 'Telecommunications', 'Telecommunications equipment', 'Telecommunications link', 'Telecommunications network', 'Telegraphy', 'Telephone', 'Telephone call', 'Telephone exchange', 'Telephone newspaper', 'Telephone tapping', 'Telephony', 'Teleprinter', 'Television broadcasting', 'Telex', 'TeliaSonera', 'Terminal (telecommunication)', 'Tethering', 'Text messaging', 'Texting while driving', 'The Courier-Journal', 'The Guardian', 'The New York Times', 'The Telephone Cases', 'Thomas A. Watson', 'Thomas Edison', 'Thomas Haug', 'Théâtrophone', 'Tim Berners-Lee', 'Time-division multiple access', 'Time-division multiplexing', 'Tivadar Puskás', 'Toasternet', 'Total Access Communication System', 'Touch screens', 'Transmission line', 'Transmission medium', 'Two-way radio', 'UMTS', 'UMTS frequency bands', 'UUCP', 'United Kingdom', 'United Nations', 'Universal Mobile Telecommunications System', 'University of Utah', 'Usage share of operating systems', 'Usenet', 'User interface', 'Video coding format', 'Video game', 'Video games', 'Video over LTE', 'Video over NR', 'Videotelephony', 'Vint Cerf', 'Vivo (technology company)', 'Vladimir K. Zworykin', 'VoIP', 'VoIP phone', 'Voice calling', 'Voice over IP', 'Voice over LTE', 'Voice over NR', 'W-CDMA', 'WCDMA', 'Wacom (company)', 'Wallpaper (computing)', 'Walter Houser Brattain', 'Waste Electrical and Electronic Equipment Directive', 'Wayback Machine', 'Whistled language', 'Wi-Fi', 'WiBro', 'WiDEN', 'WiFi', 'WiMAX', 'Wide area network', 'Wireless', 'Wireless Application Protocol', 'Wireless device radiation and health', 'Wireless electronic devices and health', 'Wireless network', 'Wireless revolution', 'Wireless service provider', 'World Health Organization', 'XHTML Mobile Profile', 'Xiaomi', 'Yogen Dalal']\n"
          ]
        }
      ]
    }
  ]
}